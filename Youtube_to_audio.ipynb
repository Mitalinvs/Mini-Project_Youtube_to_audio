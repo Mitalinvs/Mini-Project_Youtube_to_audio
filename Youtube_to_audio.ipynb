{
  "nbformat": 4,
  "nbformat_minor": 0,
  "metadata": {
    "colab": {
      "provenance": [],
      "include_colab_link": true
    },
    "kernelspec": {
      "name": "python3",
      "display_name": "Python 3"
    },
    "language_info": {
      "name": "python"
    }
  },
  "cells": [
    {
      "cell_type": "markdown",
      "metadata": {
        "id": "view-in-github",
        "colab_type": "text"
      },
      "source": [
        "<a href=\"https://colab.research.google.com/github/Mitalinvs/Mini-Project_Youtube_to_audio/blob/main/Youtube_to_audio.ipynb\" target=\"_parent\"><img src=\"https://colab.research.google.com/assets/colab-badge.svg\" alt=\"Open In Colab\"/></a>"
      ]
    },
    {
      "cell_type": "code",
      "source": [
        "!pip install youtube_search\n",
        "!pip install pytube"
      ],
      "metadata": {
        "colab": {
          "base_uri": "https://localhost:8080/"
        },
        "id": "mor-re7vzhF9",
        "outputId": "78099c50-57f8-438f-aa0a-9a3daa1e10c3"
      },
      "execution_count": 1,
      "outputs": [
        {
          "output_type": "stream",
          "name": "stdout",
          "text": [
            "Looking in indexes: https://pypi.org/simple, https://us-python.pkg.dev/colab-wheels/public/simple/\n",
            "Collecting youtube_search\n",
            "  Downloading youtube_search-2.1.2-py3-none-any.whl (3.4 kB)\n",
            "Requirement already satisfied: requests in /usr/local/lib/python3.10/dist-packages (from youtube_search) (2.27.1)\n",
            "Requirement already satisfied: urllib3<1.27,>=1.21.1 in /usr/local/lib/python3.10/dist-packages (from requests->youtube_search) (1.26.15)\n",
            "Requirement already satisfied: certifi>=2017.4.17 in /usr/local/lib/python3.10/dist-packages (from requests->youtube_search) (2022.12.7)\n",
            "Requirement already satisfied: charset-normalizer~=2.0.0 in /usr/local/lib/python3.10/dist-packages (from requests->youtube_search) (2.0.12)\n",
            "Requirement already satisfied: idna<4,>=2.5 in /usr/local/lib/python3.10/dist-packages (from requests->youtube_search) (3.4)\n",
            "Installing collected packages: youtube_search\n",
            "Successfully installed youtube_search-2.1.2\n",
            "Looking in indexes: https://pypi.org/simple, https://us-python.pkg.dev/colab-wheels/public/simple/\n",
            "Collecting pytube\n",
            "  Downloading pytube-15.0.0-py3-none-any.whl (57 kB)\n",
            "\u001b[2K     \u001b[90m━━━━━━━━━━━━━━━━━━━━━━━━━━━━━━━━━━━━━━━━\u001b[0m \u001b[32m57.6/57.6 kB\u001b[0m \u001b[31m6.3 MB/s\u001b[0m eta \u001b[36m0:00:00\u001b[0m\n",
            "\u001b[?25hInstalling collected packages: pytube\n",
            "Successfully installed pytube-15.0.0\n"
          ]
        }
      ]
    },
    {
      "cell_type": "code",
      "execution_count": 2,
      "metadata": {
        "id": "3jTW1V51zbYn"
      },
      "outputs": [],
      "source": [
        "from youtube_search import YoutubeSearch\n",
        "from pytube import YouTube\n",
        "from flask import send_file\n",
        "import zipfile\n",
        "import os\n",
        "\n",
        "\n",
        "def searchtube(artist, songNumber):\n",
        "    results = YoutubeSearch(artist, max_results=songNumber).to_dict()\n",
        "    s = 'www.youtube.com'\n",
        "    urls = []\n",
        "    for value in results:\n",
        "        urls.append(s+value['url_suffix'])\n",
        "\n",
        "    for url in urls:\n",
        "        audio = YouTube(url)\n",
        "        audio.streams.filter(only_audio=True).first().download(\n",
        "            output_path='./audio/')\n",
        "\n",
        "    handle = zipfile.ZipFile('audios.zip', 'w')\n"
      ]
    },
    {
      "cell_type": "code",
      "source": [
        "searchtube('Tere Vaaste',3)"
      ],
      "metadata": {
        "id": "lpY2jFB5zfRx"
      },
      "execution_count": 3,
      "outputs": []
    }
  ]
}